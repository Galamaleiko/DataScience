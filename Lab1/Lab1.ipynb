{
 "cells": [
  {
   "cell_type": "code",
   "execution_count": 85,
   "outputs": [
    {
     "data": {
      "text/plain": "        Age  Gender  Impressions  Clicks  Signed_In\n0        36       0            3       0          1\n1        73       1            3       0          1\n2        30       0            3       0          1\n3        49       1            3       0          1\n4        47       1           11       0          1\n...     ...     ...          ...     ...        ...\n458436    0       0            2       0          0\n458437    0       0            4       0          0\n458438   72       1            5       0          1\n458439    0       0            5       0          0\n458440    0       0            3       0          0\n\n[458441 rows x 5 columns]",
      "text/html": "<div>\n<style scoped>\n    .dataframe tbody tr th:only-of-type {\n        vertical-align: middle;\n    }\n\n    .dataframe tbody tr th {\n        vertical-align: top;\n    }\n\n    .dataframe thead th {\n        text-align: right;\n    }\n</style>\n<table border=\"1\" class=\"dataframe\">\n  <thead>\n    <tr style=\"text-align: right;\">\n      <th></th>\n      <th>Age</th>\n      <th>Gender</th>\n      <th>Impressions</th>\n      <th>Clicks</th>\n      <th>Signed_In</th>\n    </tr>\n  </thead>\n  <tbody>\n    <tr>\n      <th>0</th>\n      <td>36</td>\n      <td>0</td>\n      <td>3</td>\n      <td>0</td>\n      <td>1</td>\n    </tr>\n    <tr>\n      <th>1</th>\n      <td>73</td>\n      <td>1</td>\n      <td>3</td>\n      <td>0</td>\n      <td>1</td>\n    </tr>\n    <tr>\n      <th>2</th>\n      <td>30</td>\n      <td>0</td>\n      <td>3</td>\n      <td>0</td>\n      <td>1</td>\n    </tr>\n    <tr>\n      <th>3</th>\n      <td>49</td>\n      <td>1</td>\n      <td>3</td>\n      <td>0</td>\n      <td>1</td>\n    </tr>\n    <tr>\n      <th>4</th>\n      <td>47</td>\n      <td>1</td>\n      <td>11</td>\n      <td>0</td>\n      <td>1</td>\n    </tr>\n    <tr>\n      <th>...</th>\n      <td>...</td>\n      <td>...</td>\n      <td>...</td>\n      <td>...</td>\n      <td>...</td>\n    </tr>\n    <tr>\n      <th>458436</th>\n      <td>0</td>\n      <td>0</td>\n      <td>2</td>\n      <td>0</td>\n      <td>0</td>\n    </tr>\n    <tr>\n      <th>458437</th>\n      <td>0</td>\n      <td>0</td>\n      <td>4</td>\n      <td>0</td>\n      <td>0</td>\n    </tr>\n    <tr>\n      <th>458438</th>\n      <td>72</td>\n      <td>1</td>\n      <td>5</td>\n      <td>0</td>\n      <td>1</td>\n    </tr>\n    <tr>\n      <th>458439</th>\n      <td>0</td>\n      <td>0</td>\n      <td>5</td>\n      <td>0</td>\n      <td>0</td>\n    </tr>\n    <tr>\n      <th>458440</th>\n      <td>0</td>\n      <td>0</td>\n      <td>3</td>\n      <td>0</td>\n      <td>0</td>\n    </tr>\n  </tbody>\n</table>\n<p>458441 rows × 5 columns</p>\n</div>"
     },
     "execution_count": 85,
     "metadata": {},
     "output_type": "execute_result"
    }
   ],
   "source": [
    "import pandas as pd\n",
    "\n",
    "dataSet = pd.read_csv(\"C:\\\\Users\\\\sergi\\\\Documents\\\\dds_datasets\\\\dds_datasets\\\\dds_ch2_nyt\\\\nyt1.csv\")\n",
    "Age_Group = [\"18-\", \"18-24\", \"25-34\", \"35-44\", \"45-54\", \"55-64\", \"65+\"]\n",
    "dataSet"
   ],
   "metadata": {
    "collapsed": false,
    "pycharm": {
     "name": "#%%\n"
    }
   }
  },
  {
   "cell_type": "code",
   "execution_count": 86,
   "outputs": [
    {
     "name": "stderr",
     "output_type": "stream",
     "text": [
      "C:\\Users\\sergi\\AppData\\Local\\Temp\\ipykernel_14204\\3757476715.py:19: SettingWithCopyWarning: \n",
      "A value is trying to be set on a copy of a slice from a DataFrame.\n",
      "Try using .loc[row_indexer,col_indexer] = value instead\n",
      "\n",
      "See the caveats in the documentation: https://pandas.pydata.org/pandas-docs/stable/user_guide/indexing.html#returning-a-view-versus-a-copy\n",
      "  normalData[\"Age_Group\"] = normalData.Age.apply(lambda x: setAgeGroup(x))\n"
     ]
    },
    {
     "data": {
      "text/plain": "        Age  Gender  Impressions  Clicks  Signed_In Age_Group\n0        36       0            3       0          1     35-44\n1        73       1            3       0          1       65+\n2        30       0            3       0          1     25-34\n3        49       1            3       0          1     45-54\n4        47       1           11       0          1     45-54\n...     ...     ...          ...     ...        ...       ...\n458432   30       0            4       0          1     25-34\n458433   21       1            2       0          1     18-24\n458434   61       1            6       0          1     55-64\n458435   51       0            7       0          1     45-54\n458438   72       1            5       0          1       65+\n\n[321335 rows x 6 columns]",
      "text/html": "<div>\n<style scoped>\n    .dataframe tbody tr th:only-of-type {\n        vertical-align: middle;\n    }\n\n    .dataframe tbody tr th {\n        vertical-align: top;\n    }\n\n    .dataframe thead th {\n        text-align: right;\n    }\n</style>\n<table border=\"1\" class=\"dataframe\">\n  <thead>\n    <tr style=\"text-align: right;\">\n      <th></th>\n      <th>Age</th>\n      <th>Gender</th>\n      <th>Impressions</th>\n      <th>Clicks</th>\n      <th>Signed_In</th>\n      <th>Age_Group</th>\n    </tr>\n  </thead>\n  <tbody>\n    <tr>\n      <th>0</th>\n      <td>36</td>\n      <td>0</td>\n      <td>3</td>\n      <td>0</td>\n      <td>1</td>\n      <td>35-44</td>\n    </tr>\n    <tr>\n      <th>1</th>\n      <td>73</td>\n      <td>1</td>\n      <td>3</td>\n      <td>0</td>\n      <td>1</td>\n      <td>65+</td>\n    </tr>\n    <tr>\n      <th>2</th>\n      <td>30</td>\n      <td>0</td>\n      <td>3</td>\n      <td>0</td>\n      <td>1</td>\n      <td>25-34</td>\n    </tr>\n    <tr>\n      <th>3</th>\n      <td>49</td>\n      <td>1</td>\n      <td>3</td>\n      <td>0</td>\n      <td>1</td>\n      <td>45-54</td>\n    </tr>\n    <tr>\n      <th>4</th>\n      <td>47</td>\n      <td>1</td>\n      <td>11</td>\n      <td>0</td>\n      <td>1</td>\n      <td>45-54</td>\n    </tr>\n    <tr>\n      <th>...</th>\n      <td>...</td>\n      <td>...</td>\n      <td>...</td>\n      <td>...</td>\n      <td>...</td>\n      <td>...</td>\n    </tr>\n    <tr>\n      <th>458432</th>\n      <td>30</td>\n      <td>0</td>\n      <td>4</td>\n      <td>0</td>\n      <td>1</td>\n      <td>25-34</td>\n    </tr>\n    <tr>\n      <th>458433</th>\n      <td>21</td>\n      <td>1</td>\n      <td>2</td>\n      <td>0</td>\n      <td>1</td>\n      <td>18-24</td>\n    </tr>\n    <tr>\n      <th>458434</th>\n      <td>61</td>\n      <td>1</td>\n      <td>6</td>\n      <td>0</td>\n      <td>1</td>\n      <td>55-64</td>\n    </tr>\n    <tr>\n      <th>458435</th>\n      <td>51</td>\n      <td>0</td>\n      <td>7</td>\n      <td>0</td>\n      <td>1</td>\n      <td>45-54</td>\n    </tr>\n    <tr>\n      <th>458438</th>\n      <td>72</td>\n      <td>1</td>\n      <td>5</td>\n      <td>0</td>\n      <td>1</td>\n      <td>65+</td>\n    </tr>\n  </tbody>\n</table>\n<p>321335 rows × 6 columns</p>\n</div>"
     },
     "execution_count": 86,
     "metadata": {},
     "output_type": "execute_result"
    }
   ],
   "source": [
    "normalData = dataSet[(dataSet.Signed_In == 1) & (dataSet.Age > 0)]\n",
    "\n",
    "def setAgeGroup(age):\n",
    "    if age < 18:\n",
    "        return \"18-\"\n",
    "    elif age < 25:\n",
    "        return \"18-24\"\n",
    "    elif age < 35:\n",
    "        return \"25-34\"\n",
    "    elif age < 45:\n",
    "        return \"35-44\"\n",
    "    elif age < 55:\n",
    "        return \"45-54\"\n",
    "    elif age < 65:\n",
    "        return \"55-64\"\n",
    "    else:\n",
    "        return \"65+\"\n",
    "\n",
    "normalData[\"Age_Group\"] = normalData.Age.apply(lambda x: setAgeGroup(x))\n",
    "normalData"
   ],
   "metadata": {
    "collapsed": false,
    "pycharm": {
     "name": "#%%\n"
    }
   }
  },
  {
   "cell_type": "code",
   "execution_count": 87,
   "outputs": [
    {
     "data": {
      "text/plain": "  Age_Group    Age  Gender  Impressions  Clicks  Signed_In\n0       18-  13828   13828        13828   13828      13828\n1     18-24  40694   40694        40694   40694      40694\n2     25-34  58174   58174        58174   58174      58174\n3     35-44  70860   70860        70860   70860      70860\n4     45-54  64288   64288        64288   64288      64288\n5     55-64  44738   44738        44738   44738      44738\n6       65+  28753   28753        28753   28753      28753",
      "text/html": "<div>\n<style scoped>\n    .dataframe tbody tr th:only-of-type {\n        vertical-align: middle;\n    }\n\n    .dataframe tbody tr th {\n        vertical-align: top;\n    }\n\n    .dataframe thead th {\n        text-align: right;\n    }\n</style>\n<table border=\"1\" class=\"dataframe\">\n  <thead>\n    <tr style=\"text-align: right;\">\n      <th></th>\n      <th>Age_Group</th>\n      <th>Age</th>\n      <th>Gender</th>\n      <th>Impressions</th>\n      <th>Clicks</th>\n      <th>Signed_In</th>\n    </tr>\n  </thead>\n  <tbody>\n    <tr>\n      <th>0</th>\n      <td>18-</td>\n      <td>13828</td>\n      <td>13828</td>\n      <td>13828</td>\n      <td>13828</td>\n      <td>13828</td>\n    </tr>\n    <tr>\n      <th>1</th>\n      <td>18-24</td>\n      <td>40694</td>\n      <td>40694</td>\n      <td>40694</td>\n      <td>40694</td>\n      <td>40694</td>\n    </tr>\n    <tr>\n      <th>2</th>\n      <td>25-34</td>\n      <td>58174</td>\n      <td>58174</td>\n      <td>58174</td>\n      <td>58174</td>\n      <td>58174</td>\n    </tr>\n    <tr>\n      <th>3</th>\n      <td>35-44</td>\n      <td>70860</td>\n      <td>70860</td>\n      <td>70860</td>\n      <td>70860</td>\n      <td>70860</td>\n    </tr>\n    <tr>\n      <th>4</th>\n      <td>45-54</td>\n      <td>64288</td>\n      <td>64288</td>\n      <td>64288</td>\n      <td>64288</td>\n      <td>64288</td>\n    </tr>\n    <tr>\n      <th>5</th>\n      <td>55-64</td>\n      <td>44738</td>\n      <td>44738</td>\n      <td>44738</td>\n      <td>44738</td>\n      <td>44738</td>\n    </tr>\n    <tr>\n      <th>6</th>\n      <td>65+</td>\n      <td>28753</td>\n      <td>28753</td>\n      <td>28753</td>\n      <td>28753</td>\n      <td>28753</td>\n    </tr>\n  </tbody>\n</table>\n</div>"
     },
     "execution_count": 87,
     "metadata": {},
     "output_type": "execute_result"
    }
   ],
   "source": [
    "data_byAge = normalData.groupby(\"Age_Group\", as_index=False).count()\n",
    "data_byAge"
   ],
   "metadata": {
    "collapsed": false,
    "pycharm": {
     "name": "#%%\n"
    }
   }
  },
  {
   "cell_type": "code",
   "execution_count": 88,
   "outputs": [
    {
     "data": {
      "text/plain": "<AxesSubplot: xlabel='Age_Group', ylabel='Clicks'>"
     },
     "execution_count": 88,
     "metadata": {},
     "output_type": "execute_result"
    },
    {
     "data": {
      "text/plain": "<Figure size 640x480 with 1 Axes>",
      "image/png": "[encoded data removed]"
     },
     "metadata": {},
     "output_type": "display_data"
    }
   ],
   "source": [
    "import seaborn as sb\n",
    "\n",
    "sb.barplot(data = data_byAge, x = \"Age_Group\", y = \"Clicks\")"
   ],
   "metadata": {
    "collapsed": false,
    "pycharm": {
     "name": "#%%\n"
    }
   }
  },
  {
   "cell_type": "code",
   "execution_count": 89,
   "outputs": [
    {
     "data": {
      "text/plain": "  Age_Group  Avg_Impression  Avg_Clicks  Avg_SignedIn\n0       18-        5.007159    0.149335           1.0\n1     18-24        5.002826    0.053251           1.0\n2     25-34        4.993829    0.050486           1.0\n3     35-44        5.021507    0.051679           1.0\n4     45-54        5.010406    0.050274           1.0\n5     55-64        5.022308    0.101837           1.0\n6       65+        5.012347    0.151289           1.0",
      "text/html": "<div>\n<style scoped>\n    .dataframe tbody tr th:only-of-type {\n        vertical-align: middle;\n    }\n\n    .dataframe tbody tr th {\n        vertical-align: top;\n    }\n\n    .dataframe thead th {\n        text-align: right;\n    }\n</style>\n<table border=\"1\" class=\"dataframe\">\n  <thead>\n    <tr style=\"text-align: right;\">\n      <th></th>\n      <th>Age_Group</th>\n      <th>Avg_Impression</th>\n      <th>Avg_Clicks</th>\n      <th>Avg_SignedIn</th>\n    </tr>\n  </thead>\n  <tbody>\n    <tr>\n      <th>0</th>\n      <td>18-</td>\n      <td>5.007159</td>\n      <td>0.149335</td>\n      <td>1.0</td>\n    </tr>\n    <tr>\n      <th>1</th>\n      <td>18-24</td>\n      <td>5.002826</td>\n      <td>0.053251</td>\n      <td>1.0</td>\n    </tr>\n    <tr>\n      <th>2</th>\n      <td>25-34</td>\n      <td>4.993829</td>\n      <td>0.050486</td>\n      <td>1.0</td>\n    </tr>\n    <tr>\n      <th>3</th>\n      <td>35-44</td>\n      <td>5.021507</td>\n      <td>0.051679</td>\n      <td>1.0</td>\n    </tr>\n    <tr>\n      <th>4</th>\n      <td>45-54</td>\n      <td>5.010406</td>\n      <td>0.050274</td>\n      <td>1.0</td>\n    </tr>\n    <tr>\n      <th>5</th>\n      <td>55-64</td>\n      <td>5.022308</td>\n      <td>0.101837</td>\n      <td>1.0</td>\n    </tr>\n    <tr>\n      <th>6</th>\n      <td>65+</td>\n      <td>5.012347</td>\n      <td>0.151289</td>\n      <td>1.0</td>\n    </tr>\n  </tbody>\n</table>\n</div>"
     },
     "execution_count": 89,
     "metadata": {},
     "output_type": "execute_result"
    }
   ],
   "source": [
    "data_avg = data_byAge.drop([\"Age\", \"Impressions\", \"Clicks\", \"Signed_In\", \"Gender\"], axis=1)\n",
    "\n",
    "average_stats = normalData.groupby([\"Age_Group\"], as_index=False).mean()\n",
    "\n",
    "data_avg[\"Avg_Impression\"] = average_stats[\"Impressions\"]\n",
    "data_avg[\"Avg_Clicks\"] = average_stats[\"Clicks\"]\n",
    "data_avg[\"Avg_SignedIn\"] = average_stats[\"Signed_In\"]\n",
    "\n",
    "data_avg\n"
   ],
   "metadata": {
    "collapsed": false,
    "pycharm": {
     "name": "#%%\n"
    }
   }
  },
  {
   "cell_type": "code",
   "execution_count": 90,
   "outputs": [
    {
     "data": {
      "text/plain": "20"
     },
     "execution_count": 90,
     "metadata": {},
     "output_type": "execute_result"
    }
   ],
   "source": [
    "normalData[\"Impressions\"].max()"
   ],
   "metadata": {
    "collapsed": false,
    "pycharm": {
     "name": "#%%\n"
    }
   }
  },
  {
   "cell_type": "code",
   "execution_count": null,
   "outputs": [],
   "source": [],
   "metadata": {
    "collapsed": false,
    "pycharm": {
     "name": "#%%\n"
    }
   }
  }
 ],
 "metadata": {
  "kernelspec": {
   "display_name": "Python 3",
   "language": "python",
   "name": "python3"
  },
  "language_info": {
   "codemirror_mode": {
    "name": "ipython",
    "version": 2
   },
   "file_extension": ".py",
   "mimetype": "text/x-python",
   "name": "python",
   "nbconvert_exporter": "python",
   "pygments_lexer": "ipython2",
   "version": "2.7.6"
  }
 },
 "nbformat": 4,
 "nbformat_minor": 0
}